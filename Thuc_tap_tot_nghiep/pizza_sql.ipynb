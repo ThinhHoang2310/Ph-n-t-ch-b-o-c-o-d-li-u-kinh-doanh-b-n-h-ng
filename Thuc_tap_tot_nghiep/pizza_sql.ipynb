{
 "cells": [
  {
   "cell_type": "code",
   "execution_count": 2,
   "metadata": {},
   "outputs": [
    {
     "name": "stdout",
     "output_type": "stream",
     "text": [
      "hello\n"
     ]
    }
   ],
   "source": [
    "print('hello')"
   ]
  },
  {
   "cell_type": "code",
   "execution_count": 1,
   "metadata": {},
   "outputs": [
    {
     "name": "stderr",
     "output_type": "stream",
     "text": [
      "<>:3: SyntaxWarning: invalid escape sequence '\\S'\n",
      "<>:3: SyntaxWarning: invalid escape sequence '\\S'\n",
      "C:\\Users\\DELL\\AppData\\Local\\Temp\\ipykernel_50512\\3759702774.py:3: SyntaxWarning: invalid escape sequence '\\S'\n",
      "  server_name='bdthinh\\SQLEXPRESS'\n",
      "C:\\Users\\DELL\\AppData\\Local\\Temp\\ipykernel_50512\\3759702774.py:3: SyntaxWarning: invalid escape sequence '\\S'\n",
      "  server_name='bdthinh\\SQLEXPRESS'\n"
     ]
    },
    {
     "ename": "InterfaceError",
     "evalue": "('IM002', '[IM002] [Microsoft][ODBC Driver Manager] Data source name not found and no default driver specified (0) (SQLDriverConnect)')",
     "output_type": "error",
     "traceback": [
      "\u001b[1;31m---------------------------------------------------------------------------\u001b[0m",
      "\u001b[1;31mInterfaceError\u001b[0m                            Traceback (most recent call last)",
      "\u001b[1;32mc:\\Users\\DELL\\Desktop\\Thuc_tap_tot_nghiep\\pizza_sql.ipynb Cell 2\u001b[0m line \u001b[0;36m1\n\u001b[0;32m      <a href='vscode-notebook-cell:/c%3A/Users/DELL/Desktop/Thuc_tap_tot_nghiep/pizza_sql.ipynb#W1sZmlsZQ%3D%3D?line=5'>6</a>\u001b[0m \u001b[39m#uid=<username>;\u001b[39;00m\n\u001b[0;32m      <a href='vscode-notebook-cell:/c%3A/Users/DELL/Desktop/Thuc_tap_tot_nghiep/pizza_sql.ipynb#W1sZmlsZQ%3D%3D?line=6'>7</a>\u001b[0m \u001b[39m#pwd=<password>;\u001b[39;00m\n\u001b[0;32m      <a href='vscode-notebook-cell:/c%3A/Users/DELL/Desktop/Thuc_tap_tot_nghiep/pizza_sql.ipynb#W1sZmlsZQ%3D%3D?line=7'>8</a>\u001b[0m connect_string\u001b[39m=\u001b[39m \u001b[39mf\u001b[39m\u001b[39m\"\"\"\u001b[39m\n\u001b[0;32m      <a href='vscode-notebook-cell:/c%3A/Users/DELL/Desktop/Thuc_tap_tot_nghiep/pizza_sql.ipynb#W1sZmlsZQ%3D%3D?line=8'>9</a>\u001b[0m \u001b[39m    DRIVER=\u001b[39m\u001b[39m{{\u001b[39;00m\u001b[39mdriver_name\u001b[39m\u001b[39m}}\u001b[39;00m\u001b[39m;\u001b[39m\n\u001b[0;32m     <a href='vscode-notebook-cell:/c%3A/Users/DELL/Desktop/Thuc_tap_tot_nghiep/pizza_sql.ipynb#W1sZmlsZQ%3D%3D?line=9'>10</a>\u001b[0m \u001b[39m    SERVER=\u001b[39m\u001b[39m{\u001b[39;00mserver_name\u001b[39m}\u001b[39;00m\u001b[39m;\u001b[39m\n\u001b[1;32m   (...)\u001b[0m\n\u001b[0;32m     <a href='vscode-notebook-cell:/c%3A/Users/DELL/Desktop/Thuc_tap_tot_nghiep/pizza_sql.ipynb#W1sZmlsZQ%3D%3D?line=12'>13</a>\u001b[0m \u001b[39m    uid=\u001b[39m\n\u001b[0;32m     <a href='vscode-notebook-cell:/c%3A/Users/DELL/Desktop/Thuc_tap_tot_nghiep/pizza_sql.ipynb#W1sZmlsZQ%3D%3D?line=13'>14</a>\u001b[0m \u001b[39m\"\"\"\u001b[39m\n\u001b[1;32m---> <a href='vscode-notebook-cell:/c%3A/Users/DELL/Desktop/Thuc_tap_tot_nghiep/pizza_sql.ipynb#W1sZmlsZQ%3D%3D?line=15'>16</a>\u001b[0m conn\u001b[39m=\u001b[39modbc\u001b[39m.\u001b[39;49mconnect(connect_string)\n\u001b[0;32m     <a href='vscode-notebook-cell:/c%3A/Users/DELL/Desktop/Thuc_tap_tot_nghiep/pizza_sql.ipynb#W1sZmlsZQ%3D%3D?line=16'>17</a>\u001b[0m \u001b[39mprint\u001b[39m(conn)\n",
      "\u001b[1;31mInterfaceError\u001b[0m: ('IM002', '[IM002] [Microsoft][ODBC Driver Manager] Data source name not found and no default driver specified (0) (SQLDriverConnect)')"
     ]
    }
   ],
   "source": [
    "import pyodbc as odbc\n",
    "driver_name='SQL SERVER'\n",
    "server_name='bdthinh\\SQLEXPRESS'\n",
    "database_name='TTTN'\n",
    "\n",
    "#uid=<username>;\n",
    "#pwd=<password>;\n",
    "connect_string= f\"\"\"\n",
    "    DRIVER={{driver_name}};\n",
    "    SERVER={server_name};\n",
    "    DATABASE={database_name};\n",
    "    trust_connect=yes;\n",
    "    uid=\n",
    "\"\"\"\n",
    "\n",
    "conn=odbc.connect(connect_string)\n",
    "print(conn)"
   ]
  }
 ],
 "metadata": {
  "kernelspec": {
   "display_name": "base",
   "language": "python",
   "name": "python3"
  },
  "language_info": {
   "codemirror_mode": {
    "name": "ipython",
    "version": 3
   },
   "file_extension": ".py",
   "mimetype": "text/x-python",
   "name": "python",
   "nbconvert_exporter": "python",
   "pygments_lexer": "ipython3",
   "version": "3.12.0"
  }
 },
 "nbformat": 4,
 "nbformat_minor": 2
}
